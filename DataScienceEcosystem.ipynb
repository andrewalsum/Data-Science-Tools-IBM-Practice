{
 "cells": [
  {
   "cell_type": "markdown",
   "id": "3e4aed24-6788-47c5-9b7e-5ed42ae4691b",
   "metadata": {},
   "source": [
    "# DataScience Tools and Ecosystem"
   ]
  },
  {
   "cell_type": "markdown",
   "id": "ef86eef7-23e6-4363-a6dd-a143847b2e2f",
   "metadata": {},
   "source": [
    "In this notebook, Data Science Tools and Ecosystem are summarized."
   ]
  },
  {
   "cell_type": "markdown",
   "id": "eedfb1fc-3c58-45ba-ae20-d9578e94d884",
   "metadata": {},
   "source": [
    "Some of the popular languages that Data Scientists use are:\n",
    "1. Python\n",
    "2. R\n",
    "3. Julia"
   ]
  },
  {
   "cell_type": "markdown",
   "id": "4cc04dbe-d631-4582-bf17-87d6f9e4a032",
   "metadata": {},
   "source": [
    "Some of the commonly used libraries used by Data Scientists include:\n",
    "1. Matplotlib\n",
    "2. Seaborn\n",
    "3. Scikit-learn"
   ]
  },
  {
   "cell_type": "markdown",
   "id": "506d0eab-084b-44cc-885e-375831a01e07",
   "metadata": {},
   "source": [
    "| Data Science Tools |\n",
    "|--------------------|\n",
    "| Jupyter            |\n",
    "| Visual Studio      |\n",
    "| Anaconda           |"
   ]
  },
  {
   "cell_type": "markdown",
   "id": "3e7f0774-d189-4bdb-b4b3-42c480897494",
   "metadata": {},
   "source": [
    "### Below are a few examples of evaluating arithmetic expressions in Python.\n"
   ]
  },
  {
   "cell_type": "code",
   "execution_count": 43,
   "id": "8b772396-bc65-4971-9de5-0558cfaba495",
   "metadata": {},
   "outputs": [
    {
     "data": {
      "text/plain": [
       "-10"
      ]
     },
     "execution_count": 43,
     "metadata": {},
     "output_type": "execute_result"
    }
   ],
   "source": [
    "1+1\n",
    "5+5\n",
    "1-11"
   ]
  },
  {
   "cell_type": "code",
   "execution_count": 55,
   "id": "e51cfa67-eb6b-4358-b78b-9a082b5f31b0",
   "metadata": {},
   "outputs": [
    {
     "data": {
      "text/plain": [
       "17"
      ]
     },
     "execution_count": 55,
     "metadata": {},
     "output_type": "execute_result"
    }
   ],
   "source": [
    "#This is a simple arithmetic expression to multiply then add integers\n",
    "(3*4)+5"
   ]
  },
  {
   "cell_type": "code",
   "execution_count": 57,
   "id": "462ebbf5-e5f1-4bb4-b67f-52dfb4dc3bd8",
   "metadata": {},
   "outputs": [
    {
     "data": {
      "text/plain": [
       "3.3333333333333335"
      ]
     },
     "execution_count": 57,
     "metadata": {},
     "output_type": "execute_result"
    }
   ],
   "source": [
    "#This will convert 200 minutes to hours by dividing by 60\n",
    "200/60"
   ]
  },
  {
   "cell_type": "markdown",
   "id": "63ffbcae-a1c1-44c7-86ab-e083bce23173",
   "metadata": {},
   "source": [
    "# **Objectives:**\n",
    "+ R Introduction\n",
    "+ Python Introduction\n",
    "+ Creating a GitHub Account\n",
    "+ Pulling in GitHub\n",
    "+ Branches in GitHub"
   ]
  },
  {
   "cell_type": "markdown",
   "id": "fa8dc1ec-c0a1-4e5b-b468-7720d19fb812",
   "metadata": {},
   "source": [
    "## Author\n",
    "Andrew Alsum"
   ]
  }
 ],
 "metadata": {
  "kernelspec": {
   "display_name": "Python 3 (ipykernel)",
   "language": "python",
   "name": "python3"
  },
  "language_info": {
   "codemirror_mode": {
    "name": "ipython",
    "version": 3
   },
   "file_extension": ".py",
   "mimetype": "text/x-python",
   "name": "python",
   "nbconvert_exporter": "python",
   "pygments_lexer": "ipython3",
   "version": "3.12.4"
  }
 },
 "nbformat": 4,
 "nbformat_minor": 5
}
